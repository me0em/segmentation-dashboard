{
 "cells": [
  {
   "cell_type": "markdown",
   "id": "7d42df8a-6e12-4223-a15d-b86c33b70f12",
   "metadata": {},
   "source": [
    "<h1> <center> Dashboard </center> </h1>"
   ]
  },
  {
   "cell_type": "code",
   "execution_count": 1,
   "id": "9dd5ac20-ac21-4e33-b1af-9b799ef0f634",
   "metadata": {},
   "outputs": [],
   "source": [
    "import einops\n",
    "import torch\n",
    "import numpy as np\n",
    "from PIL import Image\n",
    "import json\n",
    "from json2html import *\n",
    "import tempfile\n",
    "import webbrowser\n",
    "import os\n",
    "from glob import glob"
   ]
  },
  {
   "cell_type": "markdown",
   "id": "30e07ec6-b2a7-42eb-85e9-8ed060e3364c",
   "metadata": {},
   "source": [
    "#### 1. Load the model"
   ]
  },
  {
   "cell_type": "code",
   "execution_count": 2,
   "id": "678a2474-f7a0-4cad-a8cc-c3ad8f258fd3",
   "metadata": {},
   "outputs": [
    {
     "name": "stderr",
     "output_type": "stream",
     "text": [
      "/home/student/.local/lib/python3.8/site-packages/pl_bolts/utils/warnings.py:30: UserWarning: You want to use `wandb` which is not installed yet, install it with `pip install wandb`.\n",
      "  stdout_func(\n",
      "/home/student/.local/lib/python3.8/site-packages/pl_bolts/utils/warnings.py:30: UserWarning: You want to use `gym` which is not installed yet, install it with `pip install gym`.\n",
      "  stdout_func(\n"
     ]
    }
   ],
   "source": [
    "#from models.TransUNet.model import MyTransUNet#, build_the_model\n",
    "from models.TwoTilesSegmenter.TwoTilesSegmenter import build_the_model, Segmenter, build_the_dataloader"
   ]
  },
  {
   "cell_type": "code",
   "execution_count": 11,
   "id": "003a6971-1ed6-4e8f-bee5-ba7aedd246fb",
   "metadata": {},
   "outputs": [
    {
     "name": "stdout",
     "output_type": "stream",
     "text": [
      "Trainable parameters amount: 42217922\n"
     ]
    }
   ],
   "source": [
    "model = build_the_model(\n",
    "    device=\"cpu\",\n",
    "    model_path=\"models/TwoTilesSegmenter/Parameters/seg-1-epoch=10-val_iou=0.3343.meow\"\n",
    ")\n",
    "\n",
    "model_name = \"seg-1\""
   ]
  },
  {
   "cell_type": "markdown",
   "id": "bdc10383-8fcb-4f71-b589-91ca51069617",
   "metadata": {},
   "source": [
    "#### 2. Load the company test dataset via custom dataloader"
   ]
  },
  {
   "cell_type": "code",
   "execution_count": 12,
   "id": "bcf7eb3d-459a-449d-a8fe-d5fa203a529e",
   "metadata": {},
   "outputs": [],
   "source": [
    "main_dataloader = build_the_dataloader(\n",
    "    batch_size=1,\n",
    "    img_path=\"/home/student/Documents/Xrays/Data/company_target_images\",\n",
    "    mask_path=\"/home/student/Documents/Xrays/Data/company_target_masks/\",\n",
    "    name=\"main_targets\"\n",
    ")"
   ]
  },
  {
   "cell_type": "code",
   "execution_count": 13,
   "id": "6720a6de-3047-46e4-83cb-6157883d0ada",
   "metadata": {},
   "outputs": [],
   "source": [
    "jenya_dataloader = build_the_dataloader(\n",
    "    batch_size=1,\n",
    "    img_path=\"/home/student/Documents/Xrays/Data/jenya_target_images\",\n",
    "    mask_path=\"/home/student/Documents/Xrays/Data/jenya_target_masks\",\n",
    "    name=\"jenya_targets\"\n",
    ")"
   ]
  },
  {
   "cell_type": "markdown",
   "id": "d7de47af-3f21-4c4a-9c67-26577495aafc",
   "metadata": {},
   "source": [
    "# TODO: добавить тестовую выборку (dataloader)"
   ]
  },
  {
   "cell_type": "markdown",
   "id": "2474c3be-84b4-45cc-a5c8-f707e6eeabbe",
   "metadata": {},
   "source": [
    "#### 3. Build the Dashboard"
   ]
  },
  {
   "cell_type": "code",
   "execution_count": 14,
   "id": "d013e893-eee4-4f0d-87ad-b043b79f95ed",
   "metadata": {},
   "outputs": [],
   "source": [
    "from dashboard import Board"
   ]
  },
  {
   "cell_type": "code",
   "execution_count": 15,
   "id": "76a7152f-c07d-421f-bdd9-09f3713a45f8",
   "metadata": {},
   "outputs": [],
   "source": [
    "def render_fn(x):\n",
    "#     print(\"XXX \", x.shape)\n",
    "    if len(x.shape) == 3:\n",
    "        x = einops.rearrange(x, \"c h w -> (c h) w\", c=1)\n",
    "        x = (x - x.min()) / (x.max() - x.min())\n",
    "        x *= 255\n",
    "        x = x.to(torch.uint8)\n",
    "        x = np.array(x.cpu())\n",
    "    else:\n",
    "        x = einops.rearrange(x, \"b c h w -> (b c h) w\", b=1, c=1)\n",
    "        x =  (x > 0.5).float()\n",
    "        x *= 255\n",
    "        x = x.to(torch.uint8)\n",
    "        x = np.array(x.cpu())\n",
    "    \n",
    "    return x"
   ]
  },
  {
   "cell_type": "code",
   "execution_count": 16,
   "id": "8b5a9a1c-6319-4780-a4d5-5a7c0e659820",
   "metadata": {},
   "outputs": [],
   "source": [
    "board = Board(\n",
    "    dataloaders=[            # dataloader returns tuple of any types objects\n",
    "        main_dataloader,\n",
    "        jenya_dataloader,\n",
    "    ],\n",
    "    model=model,            # model returns object that go right in the measure() and\n",
    "                            # go in the render() wrapped with render_fn\n",
    "    model_name=model_name,  # name of the model\n",
    "    render_fn=render_fn,\n",
    "    render_dl_idx=0,        # index of dataloader we need to render\n",
    "    obj_item=1,             # index of element in tuple from dataloader that will be rendered\n",
    "    obj_name_item=2,        # index of filename\n",
    "    to_model_item=0,        # image\n",
    "    limit=10,               # amount of rendered objects\n",
    "    phs_in_row=1,           # amount of rendered objects in row\n",
    "    get_randomly=False,     # it's usefull if dataloader is big and \n",
    "                            # we want to get different :limit: object from it to render  \n",
    "    c=3\n",
    ")"
   ]
  },
  {
   "cell_type": "markdown",
   "id": "feb92385-09bf-4836-a8c1-c79db66b414a",
   "metadata": {},
   "source": [
    "#### 4. Run the Dashboard"
   ]
  },
  {
   "cell_type": "code",
   "execution_count": 18,
   "id": "4523d63e-9ce6-40e3-a666-1c38136c27b5",
   "metadata": {},
   "outputs": [
    {
     "name": "stdout",
     "output_type": "stream",
     "text": [
      "Try to form a storage with 57 objects from dataloader. Device: cpu\n",
      "Try to form a storage with 35 objects from dataloader. Device: cpu\n",
      "Storages has been formed\n",
      "Render...\n"
     ]
    },
    {
     "data": {
      "image/png": "[encoded data removed]",
      "text/plain": [
       "<Figure size 432x2376 with 20 Axes>"
      ]
     },
     "metadata": {},
     "output_type": "display_data"
    },
    {
     "name": "stdout",
     "output_type": "stream",
     "text": [
      "Measure...\n",
      "Load MSELoss interface from metrics/MSELoss.py\n",
      "Load IoU interface from metrics/IoU.py\n",
      "Load MS_SSIM interface from metrics/MS_SSIM.py\n",
      "metric: MSELoss, val: 0.029453501105308533, idx: 32, name: 1089\n",
      "metric: IoU, val: 0.35059988498687744, idx: 8, name: 1123\n",
      "metric: MS_SSIM, val: 0.999998927116394, idx: 3, name: 1110\n",
      "Load MSELoss interface from metrics/MSELoss.py\n",
      "Load IoU interface from metrics/IoU.py\n",
      "Load MS_SSIM interface from metrics/MS_SSIM.py\n",
      "metric: MSELoss, val: 0.061310961842536926, idx: 14, name: 419\n",
      "metric: IoU, val: 0.3153260350227356, idx: 7, name: Ð§ÐµÐ»Ð¾Ð²ÐµÐºÐÑÐ¸Ð³Ð¸Ð½Ð°Ð»\n",
      "metric: MS_SSIM, val: 0.9999702572822571, idx: 6, name: 475\n",
      "CPU times: user 11min 33s, sys: 44 s, total: 12min 17s\n",
      "Wall time: 2min 10s\n"
     ]
    }
   ],
   "source": [
    "%%time\n",
    "report = board.run(device=\"cpu\")"
   ]
  },
  {
   "cell_type": "code",
   "execution_count": 19,
   "id": "d211bd08-e34d-4b80-8401-cc9a9069f5ab",
   "metadata": {},
   "outputs": [],
   "source": [
    "html = json2html.convert(json=report, table_attributes='border=\"1px\"; border-color: rgba(0,0,255,0.25)')\n",
    "html = f'<link rel=\"stylesheet\" href=\"{os.getcwd()}/table.css\">' + \\\n",
    " '<h1><center>Dashboard 📊</center></h1>' + \\\n",
    " '<div class=\"table-wrapper\"><table class=\"fl-table\">' + \\\n",
    " html + \\\n",
    " '</table></div>'\n",
    "\n",
    "with tempfile.NamedTemporaryFile(mode=\"w\", suffix=\".html\", delete=False) as tf:\n",
    "    tf.write(html)\n",
    "    webbrowser.open('file://' + os.path.realpath(tf.name))"
   ]
  },
  {
   "cell_type": "code",
   "execution_count": null,
   "id": "311e7c47-1286-4a49-89d7-d802327d2837",
   "metadata": {},
   "outputs": [],
   "source": [
    "response"
   ]
  },
  {
   "cell_type": "code",
   "execution_count": null,
   "id": "f66eb54f-f90e-476f-9a9b-9d1fe6d5f216",
   "metadata": {},
   "outputs": [],
   "source": [
    "with tempfile.NamedTemporaryFile(mode=\"w\", suffix=\".html\", delete=False) as tf:\n",
    "    tf.write(html)\n",
    "    webbrowser.open('file://' + os.path.realpath(tf.name))"
   ]
  },
  {
   "cell_type": "code",
   "execution_count": null,
   "id": "d7de0109-b402-4b1a-8612-5d27ad6b5256",
   "metadata": {},
   "outputs": [],
   "source": [
    "import os"
   ]
  },
  {
   "cell_type": "code",
   "execution_count": null,
   "id": "2a590c03-2414-4460-a2e4-00216d78e73b",
   "metadata": {},
   "outputs": [],
   "source": [
    "os.path.isfile(\"/usr/bin/google-chrome\")"
   ]
  },
  {
   "cell_type": "code",
   "execution_count": null,
   "id": "4cd63165-860d-488d-9c61-663342764676",
   "metadata": {},
   "outputs": [],
   "source": []
  }
 ],
 "metadata": {
  "kernelspec": {
   "display_name": "Python 3 (ipykernel)",
   "language": "python",
   "name": "python3"
  },
  "language_info": {
   "codemirror_mode": {
    "name": "ipython",
    "version": 3
   },
   "file_extension": ".py",
   "mimetype": "text/x-python",
   "name": "python",
   "nbconvert_exporter": "python",
   "pygments_lexer": "ipython3",
   "version": "3.8.10"
  }
 },
 "nbformat": 4,
 "nbformat_minor": 5
}

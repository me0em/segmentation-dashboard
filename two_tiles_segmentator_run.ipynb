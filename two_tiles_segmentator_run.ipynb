{
 "cells": [
  {
   "cell_type": "markdown",
   "id": "7d42df8a-6e12-4223-a15d-b86c33b70f12",
   "metadata": {},
   "source": [
    "<h1> <center> Dashboard </center> </h1>"
   ]
  },
  {
   "cell_type": "code",
   "execution_count": 11,
   "id": "9dd5ac20-ac21-4e33-b1af-9b799ef0f634",
   "metadata": {},
   "outputs": [],
   "source": [
    "import einops\n",
    "import torch\n",
    "import numpy as np\n",
    "from PIL import Image\n",
    "import json\n",
    "from json2html import *\n",
    "import tempfile\n",
    "import webbrowser\n",
    "import os\n",
    "from glob import glob"
   ]
  },
  {
   "cell_type": "markdown",
   "id": "30e07ec6-b2a7-42eb-85e9-8ed060e3364c",
   "metadata": {},
   "source": [
    "#### 1. Load the model"
   ]
  },
  {
   "cell_type": "code",
   "execution_count": 12,
   "id": "678a2474-f7a0-4cad-a8cc-c3ad8f258fd3",
   "metadata": {},
   "outputs": [],
   "source": [
    "#from models.TransUNet.model import MyTransUNet#, build_the_model\n",
    "from models.TwoTilesSegmenter.TwoTilesSegmenter import build_the_model, Segmenter, build_the_dataloader"
   ]
  },
  {
   "cell_type": "code",
   "execution_count": 14,
   "id": "003a6971-1ed6-4e8f-bee5-ba7aedd246fb",
   "metadata": {},
   "outputs": [
    {
     "name": "stdout",
     "output_type": "stream",
     "text": [
      "Trainable parameters amount: 42217922\n"
     ]
    }
   ],
   "source": [
    "model = build_the_model(\n",
    "    device=\"cpu\",\n",
    "    model_path=\"models/TwoTilesSegmenter/Parameters/seg-4-epoch=23-val_iou=0.2534.ckpt\"\n",
    ")\n",
    "\n",
    "model_name = \"seg-1\""
   ]
  },
  {
   "cell_type": "markdown",
   "id": "bdc10383-8fcb-4f71-b589-91ca51069617",
   "metadata": {},
   "source": [
    "#### 2. Load the company test dataset via custom dataloader"
   ]
  },
  {
   "cell_type": "code",
   "execution_count": 15,
   "id": "bcf7eb3d-459a-449d-a8fe-d5fa203a529e",
   "metadata": {},
   "outputs": [],
   "source": [
    "main_dataloader = build_the_dataloader(\n",
    "    batch_size=1,\n",
    "    img_path=\"/home/student/Documents/Xrays/Data/company_target_images\",\n",
    "    mask_path=\"/home/student/Documents/Xrays/Data/company_target_masks/\",\n",
    "    name=\"main_targets\"\n",
    ")"
   ]
  },
  {
   "cell_type": "code",
   "execution_count": 16,
   "id": "6720a6de-3047-46e4-83cb-6157883d0ada",
   "metadata": {},
   "outputs": [],
   "source": [
    "jenya_dataloader = build_the_dataloader(\n",
    "    batch_size=1,\n",
    "    img_path=\"/home/student/Documents/Xrays/Data/jenya_target_images\",\n",
    "    mask_path=\"/home/student/Documents/Xrays/Data/jenya_target_masks\",\n",
    "    name=\"jenya_targets\"\n",
    ")"
   ]
  },
  {
   "cell_type": "code",
   "execution_count": 17,
   "id": "47fc3416-d3df-4772-a76c-7cc89b09a465",
   "metadata": {},
   "outputs": [],
   "source": [
    "sg_dataloader = build_the_dataloader(\n",
    "    batch_size=1,\n",
    "    img_path=\"/home/student/Documents/Xrays/Data/strange_gun_images_targets\",\n",
    "    mask_path=\"/home/student/Documents/Xrays/Data/strange_gun_masks_targets\",\n",
    "    name=\"strange_gun\"\n",
    ")"
   ]
  },
  {
   "cell_type": "markdown",
   "id": "d7de47af-3f21-4c4a-9c67-26577495aafc",
   "metadata": {},
   "source": [
    "# TODO: добавить тестовую выборку (dataloader)"
   ]
  },
  {
   "cell_type": "markdown",
   "id": "2474c3be-84b4-45cc-a5c8-f707e6eeabbe",
   "metadata": {},
   "source": [
    "#### 3. Build the Dashboard"
   ]
  },
  {
   "cell_type": "code",
   "execution_count": 18,
   "id": "d013e893-eee4-4f0d-87ad-b043b79f95ed",
   "metadata": {},
   "outputs": [],
   "source": [
    "from dashboard import Board"
   ]
  },
  {
   "cell_type": "code",
   "execution_count": 19,
   "id": "76a7152f-c07d-421f-bdd9-09f3713a45f8",
   "metadata": {},
   "outputs": [],
   "source": [
    "def render_fn(x):\n",
    "#     print(\"XXX \", x.shape)\n",
    "    if len(x.shape) == 3:\n",
    "        x = einops.rearrange(x, \"c h w -> (c h) w\", c=1)\n",
    "        x = (x - x.min()) / (x.max() - x.min())\n",
    "        x *= 255\n",
    "        x = x.to(torch.uint8)\n",
    "        x = np.array(x.cpu())\n",
    "    else:\n",
    "        x = einops.rearrange(x, \"b c h w -> (b c h) w\", b=1, c=1)\n",
    "        x =  (x > 0.5).float()\n",
    "        x *= 255\n",
    "        x = x.to(torch.uint8)\n",
    "        x = np.array(x.cpu())\n",
    "    \n",
    "    return x"
   ]
  },
  {
   "cell_type": "code",
   "execution_count": 20,
   "id": "8b5a9a1c-6319-4780-a4d5-5a7c0e659820",
   "metadata": {},
   "outputs": [],
   "source": [
    "board = Board(\n",
    "    dataloaders=[            # dataloader returns tuple of any types objects\n",
    "        main_dataloader,\n",
    "        jenya_dataloader,\n",
    "        sg_dataloader\n",
    "    ],\n",
    "    model=model,            # model returns object that go right in the measure() and\n",
    "                            # go in the render() wrapped with render_fn\n",
    "    model_name=model_name,  # name of the model\n",
    "    render_fn=render_fn,\n",
    "    render_dl_idx=2,        # index of dataloader we need to render\n",
    "    obj_item=1,             # index of element in tuple from dataloader that will be rendered\n",
    "    obj_name_item=2,        # index of filename\n",
    "    to_model_item=0,        # image\n",
    "    limit=6,                # amount of rendered objects\n",
    "    phs_in_row=3,           # amount of rendered objects in row\n",
    "    get_randomly=False,     # it's usefull if dataloader is big and \n",
    "                            # we want to get different :limit: object from it to render  \n",
    "    c=3\n",
    ")"
   ]
  },
  {
   "cell_type": "markdown",
   "id": "feb92385-09bf-4836-a8c1-c79db66b414a",
   "metadata": {},
   "source": [
    "#### 4. Run the Dashboard"
   ]
  },
  {
   "cell_type": "code",
   "execution_count": 21,
   "id": "4523d63e-9ce6-40e3-a666-1c38136c27b5",
   "metadata": {},
   "outputs": [
    {
     "name": "stdout",
     "output_type": "stream",
     "text": [
      "Try to form a storage with 57 objects from dataloader. Device: cpu\n",
      "Try to form a storage with 35 objects from dataloader. Device: cpu\n",
      "Try to form a storage with 6 objects from dataloader. Device: cpu\n",
      "Storages has been formed\n",
      "Render...\n"
     ]
    },
    {
     "data": {
      "image/png": "[encoded data removed]",
      "text/plain": [
       "<Figure size 1296x648 with 12 Axes>"
      ]
     },
     "metadata": {},
     "output_type": "display_data"
    },
    {
     "name": "stdout",
     "output_type": "stream",
     "text": [
      "Measure...\n",
      "Load IoU interface from metrics/IoU.py\n",
      "Load IoU interface from metrics/IoU.py\n",
      "Load IoU interface from metrics/IoU.py\n",
      "CPU times: user 13min 13s, sys: 47.1 s, total: 14min\n",
      "Wall time: 2min 22s\n"
     ]
    }
   ],
   "source": [
    "%%time\n",
    "report = board.run(device=\"cpu\")"
   ]
  },
  {
   "cell_type": "markdown",
   "id": "1d5edc88-954e-4a0c-be64-a9827e77ce16",
   "metadata": {},
   "source": [
    "#### 5. View report as html"
   ]
  },
  {
   "cell_type": "code",
   "execution_count": 22,
   "id": "311e7c47-1286-4a49-89d7-d802327d2837",
   "metadata": {},
   "outputs": [],
   "source": [
    "board.view(report)"
   ]
  },
  {
   "cell_type": "markdown",
   "id": "2c1571ed-166f-4006-a9ea-3cda165bd21d",
   "metadata": {},
   "source": [
    "#### 6. Dump report to the storage"
   ]
  },
  {
   "cell_type": "code",
   "execution_count": 24,
   "id": "7be808d0-b5cb-4562-8fb8-4055beba8c4b",
   "metadata": {},
   "outputs": [
    {
     "name": "stdin",
     "output_type": "stream",
     "text": [
      "Do you want add report in the storage? ('y' or 'n') y\n"
     ]
    }
   ],
   "source": [
    "board.dump(report)"
   ]
  },
  {
   "cell_type": "code",
   "execution_count": null,
   "id": "4cd63165-860d-488d-9c61-663342764676",
   "metadata": {},
   "outputs": [],
   "source": [
    "алексею викторовичу позвонить про сервак\n",
    "август тг есть \n",
    "тел его скинут\n",
    "и видосик пришлют"
   ]
  },
  {
   "cell_type": "code",
   "execution_count": null,
   "id": "7d6c884f-b30f-4982-87ff-0199f998446d",
   "metadata": {},
   "outputs": [],
   "source": []
  }
 ],
 "metadata": {
  "kernelspec": {
   "display_name": "Python 3 (ipykernel)",
   "language": "python",
   "name": "python3"
  },
  "language_info": {
   "codemirror_mode": {
    "name": "ipython",
    "version": 3
   },
   "file_extension": ".py",
   "mimetype": "text/x-python",
   "name": "python",
   "nbconvert_exporter": "python",
   "pygments_lexer": "ipython3",
   "version": "3.8.10"
  }
 },
 "nbformat": 4,
 "nbformat_minor": 5
}

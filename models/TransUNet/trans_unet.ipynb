{
 "cells": [
  {
   "cell_type": "markdown",
   "id": "941e52a1-d068-4bb2-9d04-39bb3a3b842f",
   "metadata": {},
   "source": [
    "### TransUnet"
   ]
  },
  {
   "cell_type": "code",
   "execution_count": 14,
   "id": "f6884e29-f32a-4e1b-ac07-17ce6f9f5292",
   "metadata": {},
   "outputs": [],
   "source": [
    "import torch\n",
    "from torch import nn\n",
    "from torchvision import transforms\n",
    "from torch.utils.data import Dataset, DataLoader\n",
    "\n",
    "from self_attention_cv.transunet import TransUnet\n",
    "\n",
    "from OverlayerTransformer import Overlayer\n",
    "\n",
    "import numpy as np\n",
    "import einops\n",
    "\n",
    "import matplotlib.pyplot as plt\n",
    "from PIL import Image\n",
    "\n",
    "import os\n",
    "import fnmatch\n",
    "import ntpath\n",
    "import random\n",
    "\n",
    "\n",
    "import random\n",
    "import yaml\n",
    "import glob\n",
    "import numpy as np\n",
    "import cv2\n",
    "from PIL import Image, ImageDraw\n",
    "import matplotlib.pyplot as plt\n",
    "from scipy import ndimage\n",
    "\n",
    "import seaborn as sns"
   ]
  },
  {
   "cell_type": "code",
   "execution_count": 15,
   "id": "fa92a646-561b-4f8b-8297-3e8534744e3e",
   "metadata": {},
   "outputs": [
    {
     "data": {
      "text/plain": [
       "<torch._C.Generator at 0x7f27cc155f90>"
      ]
     },
     "execution_count": 15,
     "metadata": {},
     "output_type": "execute_result"
    }
   ],
   "source": [
    "random.seed(42)\n",
    "np.random.seed(42)\n",
    "torch.manual_seed(42)"
   ]
  },
  {
   "cell_type": "code",
   "execution_count": 16,
   "id": "ff428724-0e4a-4654-a12b-9d91bd9e9f70",
   "metadata": {},
   "outputs": [],
   "source": [
    "def collect_paths(treeroot, pattern):\n",
    "    results = []\n",
    "    for base, _, files in os.walk(treeroot):\n",
    "        goodfiles = fnmatch.filter(files, pattern)\n",
    "        results.extend(os.path.join(base, f) for f in goodfiles)\n",
    "\n",
    "    return sorted(results)\n",
    "\n",
    "def get_train_test_idxs(paths, coeff=0.95) -> (list, list):\n",
    "    amount = round(len(paths) * train_subset_coeff)\n",
    "    idxs = list(range(len(paths)))\n",
    "    random.shuffle(idxs)\n",
    "    \n",
    "    return idxs[:amount], idxs[amount:]\n",
    "\n",
    "class MinMaxNormalize:\n",
    "    \"\"\"Implementation of min-max normalization.\n",
    "    \"\"\"\n",
    "    def __call__(self, sample):\n",
    "        assert isinstance(sample, (torch.Tensor, np.ndarray)), \"arg must be a torch.Tensor or np.ndarray\"\n",
    "\n",
    "        return (sample - sample.min()) / (sample.max() - sample.min())\n",
    "\n",
    "\n",
    "transform = transforms.Compose([\n",
    "    transforms.ToTensor(),\n",
    "    transforms.Resize((256, 256)),\n",
    "    MinMaxNormalize()\n",
    "])\n",
    "\n",
    "\n",
    "class XRayRenderSet(Dataset):\n",
    "    def __init__(self, mask_paths, image_paths, transform):\n",
    "        self.mask_paths = mask_paths\n",
    "        self.image_paths = image_paths\n",
    "        self.transform = transform\n",
    "        \n",
    "    def __len__(self):\n",
    "        return len(self.mask_paths)\n",
    "    \n",
    "    def __getitem__(self, idx):\n",
    "        image = Image.open(self.image_paths[idx])\n",
    "        original_image = MinMaxNormalize()( transforms.ToTensor()( image ) )\n",
    "        image = self.transform(image)\n",
    "        image = image.type(torch.float32)\n",
    "        \n",
    "        mask = Image.open(self.mask_paths[idx])\n",
    "        mask = self.transform(mask)\n",
    "        mask = mask.type(torch.float32)\n",
    "        \n",
    "        return original_image, image, mask\n",
    "\n",
    "\n",
    "# class XRaySet(Dataset):\n",
    "#     def __init__(self, mask_paths, image_paths, transform):\n",
    "#         self.mask_paths = mask_paths\n",
    "#         self.image_paths = image_paths\n",
    "#         self.transform = transform\n",
    "        \n",
    "#     def __len__(self):\n",
    "#         return len(self.mask_paths)\n",
    "    \n",
    "#     def __getitem__(self, idx):\n",
    "#         image = Image.open(self.image_paths[idx])\n",
    "#         image = self.transform(image)\n",
    "#         image = image.type(torch.float32)\n",
    "        \n",
    "#         mask = Image.open(self.mask_paths[idx])\n",
    "#         mask = self.transform(mask)\n",
    "#         mask = mask.type(torch.float32)\n",
    "        \n",
    "#         return image, mask\n",
    "\n",
    "class XRaySet(Dataset):\n",
    "    def __init__(self, mask_paths, image_paths, name=\"with_overlayer\"):\n",
    "        self.mask_paths = mask_paths\n",
    "        self.image_paths = image_paths\n",
    "        self.name = name\n",
    "        \n",
    "        self.transform = transforms.Compose([\n",
    "            transforms.ToTensor(),\n",
    "            transforms.Resize((256, 256)),\n",
    "            MinMaxNormalize()\n",
    "        ])\n",
    "                \n",
    "        self.overlayer = Overlayer(\n",
    "            masks_path=\"\",\n",
    "            preps_path=\"\",\n",
    "            anomalies_path=\"/home/student/Documents/Xrays/Data/anomalies\",\n",
    "            anml_amount_max=4,\n",
    "            probability=90,\n",
    "            anomaly_min_pxl_intensity=750,\n",
    "            anomaly_max_pxl_intensity=2200,  # 6000\n",
    "            min_points_amount=3,\n",
    "            max_points_amount=9,\n",
    "            max_polygons_amount=5\n",
    "        )\n",
    "\n",
    "        \n",
    "    def __len__(self):\n",
    "        return len(self.mask_paths)\n",
    "    \n",
    "    def __getitem__(self, idx):\n",
    "        image = Image.open(self.image_paths[idx])\n",
    "        mask = Image.open(self.mask_paths[idx])\n",
    "        \n",
    "        # Overlayer\n",
    "        payload = {\"image\": np.array(image), \"label\": np.array(mask)>0, \"name\": self.image_paths[idx]}\n",
    "        image, mask, name = self.overlayer(payload).values()\n",
    "        mask = mask * 1\n",
    "        \n",
    "        image = self.transform(image)\n",
    "        image = image.type(torch.float32)\n",
    "        \n",
    "        mask = self.transform(mask)\n",
    "        mask = mask.type(torch.float32)\n",
    "        \n",
    "        return image, mask, self.image_paths[idx]\n",
    "    \n",
    "def show(x):\n",
    "    x = einops.rearrange(\n",
    "        x,\n",
    "        \"b c h w -> (b c h) w\"\n",
    "    )\n",
    "\n",
    "    x = (x.cpu().detach().numpy() * 255).astype(np.uint8)\n",
    "    \n",
    "    return x\n",
    "\n",
    "def intensity(image, bool_mask, values):\n",
    "    \"\"\" Highlights the masked part of the image\n",
    "    \"\"\"\n",
    "    image = np.stack([image, image, image], axis=2)\n",
    "    \n",
    "    if isinstance(values, int):\n",
    "        values = (values, values, values)\n",
    "\n",
    "    for ind,v in enumerate(values):\n",
    "        channel = np.where(~bool_mask, image[:, :, ind], image[:, :, ind] - v)\n",
    "        channel[channel<0] = 0\n",
    "        image[:, :, ind] = channel.astype(int)\n",
    "\n",
    "    return image"
   ]
  },
  {
   "cell_type": "code",
   "execution_count": 17,
   "id": "c17222b3-f9cd-41a8-886b-91106ba657d0",
   "metadata": {},
   "outputs": [],
   "source": [
    "batch_size = 1\n",
    "train_subset_coeff = 0.95\n",
    "\n",
    "img_path = \"/home/student/Documents/Xrays/Data/preprocessed_images_train/\"\n",
    "mask_path = \"/home/student/Documents/Xrays/Data/masks_train/\"\n",
    "# mask_path = \"/home/student/Documents/xrays/data/updated_masks_v1/\"\n",
    "\n",
    "img_paths = collect_paths(img_path, \"*.png\")\n",
    "mask_paths = collect_paths(mask_path, \"*.png\")\n",
    "\n",
    "# Cut masks with has no corresponding images\n",
    "names = [ntpath.split(i)[1] for i in img_paths]\n",
    "mask_paths = [i for i in mask_paths if ntpath.split(i)[1] in names]\n",
    "\n",
    "# Cut imgs with has no corresponding masks\n",
    "names = [ntpath.split(i)[1] for i in mask_paths]\n",
    "img_paths = [i for i in img_paths if ntpath.split(i)[1] in names]\n",
    "\n",
    "# Cut masks with has no corresponding images\n",
    "names = [ntpath.split(i)[1] for i in img_paths]\n",
    "mask_paths = [i for i in mask_paths if ntpath.split(i)[1] in names]\n",
    "\n",
    "train_idxs, test_idxs = get_train_test_idxs(img_paths)"
   ]
  },
  {
   "cell_type": "code",
   "execution_count": 18,
   "id": "932be054-d344-4863-ae20-b4961917694b",
   "metadata": {},
   "outputs": [
    {
     "name": "stdout",
     "output_type": "stream",
     "text": [
      "1653, 1653\n"
     ]
    }
   ],
   "source": [
    "print(f\"{len(img_paths)}, {len(mask_paths)}\")"
   ]
  },
  {
   "cell_type": "code",
   "execution_count": 19,
   "id": "46b95f97-be7c-4c4c-b2e8-67d59db0d56f",
   "metadata": {},
   "outputs": [],
   "source": [
    "train_image_paths = [img_paths[ind] for ind in train_idxs]\n",
    "train_mask_paths  = [mask_paths[ind] for ind in train_idxs]\n",
    "\n",
    "test_image_paths = [img_paths[ind] for ind in test_idxs]\n",
    "test_mask_paths  = [mask_paths[ind] for ind in test_idxs]\n",
    "\n",
    "train_dataset = XRaySet(image_paths=train_image_paths, mask_paths=train_mask_paths)\n",
    "test_dataset = XRaySet(image_paths=test_image_paths, mask_paths=test_mask_paths)\n",
    "# render_dataset = XRayRenderSet(image_paths=test_image_paths, mask_paths=test_mask_paths)\n",
    "\n",
    "train_dataloader = DataLoader(train_dataset, batch_size=batch_size, shuffle=True, num_workers=8)\n",
    "test_dataloader = DataLoader(test_dataset, batch_size=batch_size, shuffle=True, num_workers=8)\n",
    "# render_dataloader = DataLoader(render_dataset, batch_size=batch_size, shuffle=True, num_workers=8)"
   ]
  },
  {
   "cell_type": "code",
   "execution_count": 20,
   "id": "24caa9e0-261e-47c8-a743-3577657412cb",
   "metadata": {},
   "outputs": [],
   "source": [
    "model = TransUnet(\n",
    "    in_channels=1,\n",
    "    img_dim=256,\n",
    "    vit_blocks=8,  # было 8\n",
    "    vit_dim_linear_mhsa_block=512,\n",
    "    classes=1\n",
    ")\n",
    "\n",
    "model = model.cuda() #.cuda()"
   ]
  },
  {
   "cell_type": "code",
   "execution_count": 21,
   "id": "770aacc4-ead8-41e2-8e88-264c11f65d34",
   "metadata": {},
   "outputs": [
    {
     "name": "stdout",
     "output_type": "stream",
     "text": [
      "Trainable parameters amount: 67076987\n"
     ]
    }
   ],
   "source": [
    "model_parameters = filter(lambda p: p.requires_grad, model.parameters())\n",
    "params = sum([np.prod(p.size()) for p in model_parameters])\n",
    "\n",
    "print(\"Trainable parameters amount: {:n}\".format(params))"
   ]
  },
  {
   "cell_type": "code",
   "execution_count": 22,
   "id": "bf372490-8c51-4320-83e8-7c0eb9627672",
   "metadata": {},
   "outputs": [],
   "source": [
    "# lr: from 0.01 to 0.00015625 in 10,000 epoches\n",
    "# optimizer = torch.optim.SGD(model.parameters(), lr=0.03)\n",
    "# scheduler = torch.optim.lr_scheduler.StepLR(optimizer, step_size=1700, gamma=0.5)\n",
    "\n",
    "criterion = torch.nn.BCELoss()\n",
    "# criterion = DiceLoss()\n",
    "optimizer = torch.optim.SGD(model.parameters(), lr=0.001, momentum=0.9)\n",
    "\n",
    "num_epochs = 500  # ~50.3s на эпоху -> 100 часов -> 4 дня\n",
    "\n",
    "verbose = 1\n",
    "save_step = 10"
   ]
  },
  {
   "cell_type": "code",
   "execution_count": 23,
   "id": "4ff207e5-6e03-4a27-bc95-7b27122695a7",
   "metadata": {},
   "outputs": [],
   "source": [
    "# t_output.mean(), t_output.max(), t_output.min(), torch.quantile(t_output.flatten(), torch.tensor([0.01]).cuda())"
   ]
  },
  {
   "cell_type": "code",
   "execution_count": 24,
   "id": "a8e3b989-4487-4e06-ae0d-cddbce85e2e2",
   "metadata": {},
   "outputs": [],
   "source": [
    "# with open(\"test_idxs.txt\", \"w\") as file:\n",
    "#     file.write(\" \".join(map(str, test_idxs)))"
   ]
  },
  {
   "cell_type": "code",
   "execution_count": null,
   "id": "9742a15f-82ef-4200-a677-4e1228b1a35a",
   "metadata": {},
   "outputs": [],
   "source": []
  },
  {
   "cell_type": "code",
   "execution_count": null,
   "id": "05736d6e-8e40-44c8-866f-49f43171128c",
   "metadata": {},
   "outputs": [],
   "source": []
  },
  {
   "cell_type": "code",
   "execution_count": null,
   "id": "feae1e88-10e3-4608-b4a0-af070fe199ee",
   "metadata": {},
   "outputs": [],
   "source": []
  },
  {
   "cell_type": "code",
   "execution_count": null,
   "id": "b2bc65c4-0d88-4b50-8a61-79ec7642d107",
   "metadata": {
    "tags": []
   },
   "outputs": [
    {
     "name": "stdout",
     "output_type": "stream",
     "text": [
      "epoch [1/500], loss: 0.13837\n"
     ]
    }
   ],
   "source": [
    "%%time\n",
    "losses = []\n",
    "for epoch in range(num_epochs):\n",
    "    loss_accumulator = []\n",
    "    \n",
    "    for ind,data in enumerate(train_dataloader):\n",
    "        images, masks, _ = data\n",
    "        masks = (masks==0).type(torch.float32)\n",
    "        images = images.cuda()\n",
    "        masks = masks.cuda()\n",
    "        \n",
    "        output = model(images)\n",
    "        output = torch.sigmoid(output)\n",
    "            \n",
    "        optimizer.zero_grad()\n",
    "        \n",
    "        # Don't forget about -1 if you are using SSIM-like losses!\n",
    "        loss = criterion(output, masks)\n",
    "        diff = loss.item()\n",
    "        \n",
    "        loss.backward()\n",
    "        optimizer.step()\n",
    "        # scheduler.step()       \n",
    "        loss_accumulator.append(diff)\n",
    "        \n",
    "    losses.append(np.mean(loss_accumulator))\n",
    "        \n",
    "    if (epoch + 1) % save_step == 0:\n",
    "        torch.save(model.state_dict(), f\"transunet_{epoch+1}epo_bce_vit8_vitdim512_ovrl.meow\")\n",
    "        print(f\"Saved: transunet_{epoch+1}epo_bce_vit12_vitdim512_ovrl.meow\")\n",
    "           \n",
    "    print('epoch [{}/{}], loss: {:.5f}'.format(epoch+1, num_epochs, np.mean(loss_accumulator)))\n",
    "    \n",
    "    # with open(\"losses.txt\", \"a+\") as file:\n",
    "    #     file.write('epoch [{}/{}], loss: {:.5f}\\n'.format(epoch+1, num_epochs, np.mean(loss_accumulator)))"
   ]
  },
  {
   "cell_type": "code",
   "execution_count": 13,
   "id": "c03e6404-901e-403b-8217-2b0ffa712f5f",
   "metadata": {},
   "outputs": [
    {
     "data": {
      "text/plain": [
       "[<matplotlib.lines.Line2D at 0x7f26a2e5d430>]"
      ]
     },
     "execution_count": 13,
     "metadata": {},
     "output_type": "execute_result"
    },
    {
     "data": {
      "image/png": "[encoded data removed]",
      "text/plain": [
       "<Figure size 432x288 with 1 Axes>"
      ]
     },
     "metadata": {
      "needs_background": "light"
     },
     "output_type": "display_data"
    }
   ],
   "source": [
    "plt.plot(losses)"
   ]
  },
  {
   "cell_type": "code",
   "execution_count": 15,
   "id": "b5642302-79ef-47a6-b660-6ed12088cef6",
   "metadata": {},
   "outputs": [
    {
     "data": {
      "text/plain": [
       "57.645161290322584"
      ]
     },
     "execution_count": 15,
     "metadata": {},
     "output_type": "execute_result"
    }
   ],
   "source": [
    "(29*60+47) / 31"
   ]
  },
  {
   "cell_type": "code",
   "execution_count": 16,
   "id": "170a2aca-4e89-42d3-a183-eb4ecbf9e8d1",
   "metadata": {},
   "outputs": [
    {
     "data": {
      "text/plain": [
       "842.2876949740034"
      ]
     },
     "execution_count": 16,
     "metadata": {},
     "output_type": "execute_result"
    }
   ],
   "source": [
    "(13*60*60+30*60) / 57.7"
   ]
  },
  {
   "cell_type": "code",
   "execution_count": 17,
   "id": "59a70ad2-204b-4272-bc4f-3ecc7399a142",
   "metadata": {},
   "outputs": [
    {
     "data": {
      "text/plain": [
       "[<matplotlib.lines.Line2D at 0x7efb15c3b790>]"
      ]
     },
     "execution_count": 17,
     "metadata": {},
     "output_type": "execute_result"
    },
    {
     "data": {
      "image/png": "[encoded data removed]",
      "text/plain": [
       "<Figure size 432x288 with 1 Axes>"
      ]
     },
     "metadata": {
      "needs_background": "light"
     },
     "output_type": "display_data"
    }
   ],
   "source": [
    "plt.plot(losses)"
   ]
  },
  {
   "cell_type": "code",
   "execution_count": 18,
   "id": "8fa44c81-7a27-4fb9-8591-3aeb4e03f696",
   "metadata": {},
   "outputs": [
    {
     "data": {
      "text/plain": [
       "[<matplotlib.lines.Line2D at 0x7efb15c1e8b0>]"
      ]
     },
     "execution_count": 18,
     "metadata": {},
     "output_type": "execute_result"
    },
    {
     "data": {
      "image/png": "[encoded data removed]",
      "text/plain": [
       "<Figure size 432x288 with 1 Axes>"
      ]
     },
     "metadata": {
      "needs_background": "light"
     },
     "output_type": "display_data"
    }
   ],
   "source": [
    "plt.plot(losses)"
   ]
  },
  {
   "cell_type": "code",
   "execution_count": 19,
   "id": "4da92ca3-c5dd-409f-8d54-07a17501e4e8",
   "metadata": {},
   "outputs": [
    {
     "data": {
      "text/plain": [
       "[<matplotlib.lines.Line2D at 0x7efb15b83190>]"
      ]
     },
     "execution_count": 19,
     "metadata": {},
     "output_type": "execute_result"
    },
    {
     "data": {
      "image/png": "[encoded data removed]",
      "text/plain": [
       "<Figure size 432x288 with 1 Axes>"
      ]
     },
     "metadata": {
      "needs_background": "light"
     },
     "output_type": "display_data"
    }
   ],
   "source": [
    "plt.plot(losses)"
   ]
  },
  {
   "cell_type": "markdown",
   "id": "92c79deb-aae9-4c9c-9e21-246433d49a72",
   "metadata": {},
   "source": [
    "epoch [1/30], loss: 0.42828\n",
    "epoch [2/30], loss: 0.37059\n",
    "epoch [3/30], loss: 0.35071\n",
    "epoch [4/30], loss: 0.32700\n",
    "Saved: transunet_5epo_bce_vit8_vitdim256.meow\n",
    "epoch [5/30], loss: 0.31135\n",
    "epoch [6/30], loss: 0.29856\n",
    "epoch [7/30], loss: 0.28396\n",
    "epoch [8/30], loss: 0.26057\n",
    "epoch [9/30], loss: 0.26356\n",
    "Saved: transunet_10epo_bce_vit8_vitdim256.meow\n",
    "epoch [10/30], loss: 0.24245\n",
    "epoch [11/30], loss: 0.23714\n",
    "epoch [12/30], loss: 0.21383\n",
    "epoch [13/30], loss: 0.19779\n",
    "epoch [14/30], loss: 0.20835\n",
    "Saved: transunet_15epo_bce_vit8_vitdim256.meow\n",
    "epoch [15/30], loss: 0.18336\n",
    "epoch [16/30], loss: 0.18966\n",
    "epoch [17/30], loss: 0.17860\n",
    "epoch [18/30], loss: 0.15628\n",
    "epoch [19/30], loss: 0.16570\n",
    "Saved: transunet_20epo_bce_vit8_vitdim256.meow\n",
    "epoch [20/30], loss: 0.16073\n",
    "epoch [21/30], loss: 0.14952\n",
    "epoch [22/30], loss: 0.12689\n",
    "epoch [23/30], loss: 0.14336\n",
    "epoch [24/30], loss: 0.10324\n",
    "Saved: transunet_25epo_bce_vit8_vitdim256.meow\n",
    "epoch [25/30], loss: 0.11761\n",
    "epoch [26/30], loss: 0.14241\n",
    "epoch [27/30], loss: 0.12212\n",
    "epoch [28/30], loss: 0.18332\n",
    "epoch [29/30], loss: 0.11499\n",
    "Saved: transunet_30epo_bce_vit8_vitdim256.meow\n",
    "epoch [30/30], loss: 0.09774\n",
    "CPU times: user 1h 6min 14s, sys: 24.8 s, total: 1h 6min 39s\n",
    "Wall time: 24min 25s"
   ]
  },
  {
   "cell_type": "code",
   "execution_count": 20,
   "id": "92b0dcb2-2163-42d1-8778-cf6530ad1b08",
   "metadata": {
    "jupyter": {
     "source_hidden": true
    },
    "tags": []
   },
   "outputs": [],
   "source": [
    "# for ind, data in enumerate(render_dataloader):\n",
    "#     original, t_images, t_masks = data\n",
    "#     t_images = t_images.cuda()\n",
    "#     t_masks = t_masks.cuda()\n",
    "\n",
    "#     t_output = model(t_images)\n",
    "#     t_output = torch.sigmoid(t_output)\n",
    "    \n",
    "#     threshold = torch.quantile(t_output.flatten(), torch.tensor([0.01]).cuda())\n",
    "#     t_output = (t_output > threshold).type(torch.float32)\n",
    "        \n",
    "    \n",
    "#     if ind % 15 == 0 and ind != 0:\n",
    "#         break"
   ]
  },
  {
   "cell_type": "code",
   "execution_count": 21,
   "id": "6536fe75-6ba3-485a-80f1-f625a66f8bb6",
   "metadata": {},
   "outputs": [
    {
     "data": {
      "text/plain": [
       "25.15"
      ]
     },
     "execution_count": 21,
     "metadata": {},
     "output_type": "execute_result"
    }
   ],
   "source": [
    "50.3 * 30 / 60"
   ]
  },
  {
   "cell_type": "code",
   "execution_count": 22,
   "id": "3367dcbb-5298-4b22-b6f9-f5f298f81bde",
   "metadata": {},
   "outputs": [],
   "source": [
    "def min_max(x):\n",
    "    return (x - x.min()) / (x.max() - x.min())\n",
    "\n",
    "def tr(x):\n",
    "    return min_max(x) * 255"
   ]
  },
  {
   "cell_type": "code",
   "execution_count": 23,
   "id": "43948748-9d61-43ac-8183-bc9162d9c2c1",
   "metadata": {},
   "outputs": [],
   "source": [
    "def analyze(source):\n",
    "    if type(source) == str:\n",
    "        me_arr = Image.open(source).convert('L')\n",
    "        me_arr = transform(me_arr).cpu()\n",
    "        me_arr = me_arr.type(torch.float32)\n",
    "\n",
    "        me_arr = einops.rearrange(me_arr, \"(b c) h w -> b c h w\", b=1)\n",
    "    else:\n",
    "        arr, me_arr, mask = source\n",
    "        \n",
    "        # print(arr.shape)\n",
    "\n",
    "        # t_output = model(arr)\n",
    "        # t_output = torch.sigmoid(t_output)\n",
    "        # t_output = show(t_output)\n",
    "        \n",
    "        \n",
    "    \n",
    "    me_output = model(me_arr.cpu())\n",
    "    me_output = torch.sigmoid(me_output)\n",
    "    \n",
    "    me_output = show(me_output)\n",
    "    me_output = me_output < 55 # model.load_state_dict(torch.load(PATH))# me_output.mean()\n",
    "    \n",
    "    if type(source) == str:\n",
    "        me_output_mask = transforms.Resize(Image.open(source).size[::-1])(Image.fromarray(me_output))\n",
    "        \n",
    "        return Image.fromarray(\n",
    "            intensity(\n",
    "                (MinMaxNormalize()(np.array(Image.open(source).convert(\"L\"))) * 255).astype(np.uint8),\n",
    "                np.array(me_output_mask), (20, 20, 0)\n",
    "            )\n",
    "        )\n",
    "    else:\n",
    "        me_output_mask = me_output #transforms.Resize(source.shape)(Image.fromarray(me_output))\n",
    "        me_output_mask = transforms.Resize(arr.shape[-2:])(Image.fromarray(me_output_mask))\n",
    "        mask = transforms.Resize(arr.shape[-2:])(Image.fromarray(mask.numpy()[0, 0, :]))\n",
    "        \n",
    "        # return \n",
    "        \n",
    "        tmp = (MinMaxNormalize()(arr) * 255).numpy().astype(np.uint8)[0, ]\n",
    "        tmp = g_to_rgb(tmp)[0, :]\n",
    "        tmp = einops.rearrange(tmp, \"c h w -> h w c\")\n",
    "            \n",
    "        # tmp = intensity(\n",
    "        #         (MinMaxNormalize()(arr) * 255).numpy().astype(np.uint8),\n",
    "        #         np.array(me_output_mask), (120, 120, 0)\n",
    "        #     )[0, 0, :, :, :] #.astype(np.uint8)\n",
    "            \n",
    "        # tmp = Image.fromarray(einops.rearrange(tmp, \"c h w -> h w c\"))\n",
    "        \n",
    "        # img = g_to_rgb(torch.from_numpy(show(t_images)))\n",
    "        # msk = me_output_mask == 255\n",
    "        \n",
    "        msk = transforms.ToTensor()(me_output_mask) != 0.\n",
    "        msk_original = transforms.ToTensor()(mask) != 0.\n",
    "\n",
    "        r = dsm(image=(transforms.ToTensor()(tmp)*255).type(torch.uint8), masks=msk, alpha=0.5, colors=\"#20a7c8\").numpy()\n",
    "        r = einops.rearrange(r, \"c h w -> h w c\")\n",
    "        r = Image.fromarray(r).convert('RGB')\n",
    "                \n",
    "        return r, me_output_mask, arr, msk_original[0, :], msk[0, :]"
   ]
  },
  {
   "cell_type": "code",
   "execution_count": 24,
   "id": "a9bdc8d9-85ea-4e91-8d47-3ac9bdc551ca",
   "metadata": {},
   "outputs": [
    {
     "ename": "FileNotFoundError",
     "evalue": "[Errno 2] No such file or directory: '/home/student/Documents/xrays/avatar105858661-0.jpg'",
     "output_type": "error",
     "traceback": [
      "\u001b[0;31m---------------------------------------------------------------------------\u001b[0m",
      "\u001b[0;31mFileNotFoundError\u001b[0m                         Traceback (most recent call last)",
      "Input \u001b[0;32mIn [24]\u001b[0m, in \u001b[0;36m<module>\u001b[0;34m\u001b[0m\n\u001b[0;32m----> 1\u001b[0m \u001b[43manalyze\u001b[49m\u001b[43m(\u001b[49m\u001b[38;5;124;43m'\u001b[39;49m\u001b[38;5;124;43m/home/student/Documents/xrays/avatar105858661-0.jpg\u001b[39;49m\u001b[38;5;124;43m'\u001b[39;49m\u001b[43m)\u001b[49m\n",
      "Input \u001b[0;32mIn [23]\u001b[0m, in \u001b[0;36manalyze\u001b[0;34m(source)\u001b[0m\n\u001b[1;32m      1\u001b[0m \u001b[38;5;28;01mdef\u001b[39;00m \u001b[38;5;21manalyze\u001b[39m(source):\n\u001b[1;32m      2\u001b[0m     \u001b[38;5;28;01mif\u001b[39;00m \u001b[38;5;28mtype\u001b[39m(source) \u001b[38;5;241m==\u001b[39m \u001b[38;5;28mstr\u001b[39m:\n\u001b[0;32m----> 3\u001b[0m         me_arr \u001b[38;5;241m=\u001b[39m \u001b[43mImage\u001b[49m\u001b[38;5;241;43m.\u001b[39;49m\u001b[43mopen\u001b[49m\u001b[43m(\u001b[49m\u001b[43msource\u001b[49m\u001b[43m)\u001b[49m\u001b[38;5;241m.\u001b[39mconvert(\u001b[38;5;124m'\u001b[39m\u001b[38;5;124mL\u001b[39m\u001b[38;5;124m'\u001b[39m)\n\u001b[1;32m      4\u001b[0m         me_arr \u001b[38;5;241m=\u001b[39m transform(me_arr)\u001b[38;5;241m.\u001b[39mcpu()\n\u001b[1;32m      5\u001b[0m         me_arr \u001b[38;5;241m=\u001b[39m me_arr\u001b[38;5;241m.\u001b[39mtype(torch\u001b[38;5;241m.\u001b[39mfloat32)\n",
      "File \u001b[0;32m/usr/lib/python3/dist-packages/PIL/Image.py:2809\u001b[0m, in \u001b[0;36mopen\u001b[0;34m(fp, mode)\u001b[0m\n\u001b[1;32m   2806\u001b[0m     filename \u001b[38;5;241m=\u001b[39m fp\n\u001b[1;32m   2808\u001b[0m \u001b[38;5;28;01mif\u001b[39;00m filename:\n\u001b[0;32m-> 2809\u001b[0m     fp \u001b[38;5;241m=\u001b[39m \u001b[43mbuiltins\u001b[49m\u001b[38;5;241;43m.\u001b[39;49m\u001b[43mopen\u001b[49m\u001b[43m(\u001b[49m\u001b[43mfilename\u001b[49m\u001b[43m,\u001b[49m\u001b[43m \u001b[49m\u001b[38;5;124;43m\"\u001b[39;49m\u001b[38;5;124;43mrb\u001b[39;49m\u001b[38;5;124;43m\"\u001b[39;49m\u001b[43m)\u001b[49m\n\u001b[1;32m   2810\u001b[0m     exclusive_fp \u001b[38;5;241m=\u001b[39m \u001b[38;5;28;01mTrue\u001b[39;00m\n\u001b[1;32m   2812\u001b[0m \u001b[38;5;28;01mtry\u001b[39;00m:\n",
      "\u001b[0;31mFileNotFoundError\u001b[0m: [Errno 2] No such file or directory: '/home/student/Documents/xrays/avatar105858661-0.jpg'"
     ]
    }
   ],
   "source": [
    "analyze('/home/student/Documents/xrays/avatar105858661-0.jpg') #.save(\"example_4.png\")"
   ]
  },
  {
   "cell_type": "code",
   "execution_count": null,
   "id": "1fd51ac6-05d1-46dd-ae51-75e1a02709a5",
   "metadata": {},
   "outputs": [],
   "source": [
    "import torch\n",
    "import torch.nn.functional as F\n",
    "from torch.autograd import Variable\n",
    "import numpy as np\n",
    "from math import exp\n",
    "\n",
    "def gaussian(window_size, sigma):\n",
    "    gauss = torch.Tensor([exp(-(x - window_size//2)**2/float(2*sigma**2)) for x in range(window_size)])\n",
    "    return gauss/gauss.sum()\n",
    "\n",
    "def create_window(window_size, sigma, channel):\n",
    "    _1D_window = gaussian(window_size, sigma).unsqueeze(1)\n",
    "    _2D_window = _1D_window.mm(_1D_window.t()).float().unsqueeze(0).unsqueeze(0)\n",
    "    window = Variable(_2D_window.expand(channel, 1, window_size, window_size).contiguous())\n",
    "    return window\n",
    "\n",
    "class MS_SSIM(torch.nn.Module):\n",
    "    def __init__(self, size_average = True, max_val = 255):\n",
    "        super(MS_SSIM, self).__init__()\n",
    "        self.size_average = size_average\n",
    "        self.channel = 1\n",
    "        self.max_val = max_val\n",
    "    def _ssim(self, img1, img2, size_average = True):\n",
    "\n",
    "        _, c, w, h = img1.size()\n",
    "        window_size = min(w, h, 11)\n",
    "        sigma = 1.5 * window_size / 11\n",
    "        window = create_window(window_size, sigma, self.channel).cuda()\n",
    "        mu1 = F.conv2d(img1, window, padding = window_size//2, groups = self.channel)\n",
    "        mu2 = F.conv2d(img2, window, padding = window_size//2, groups = self.channel)\n",
    "\n",
    "        mu1_sq = mu1.pow(2)\n",
    "        mu2_sq = mu2.pow(2)\n",
    "        mu1_mu2 = mu1*mu2\n",
    "\n",
    "        sigma1_sq = F.conv2d(img1*img1, window, padding = window_size//2, groups = self.channel) - mu1_sq\n",
    "        sigma2_sq = F.conv2d(img2*img2, window, padding = window_size//2, groups = self.channel) - mu2_sq\n",
    "        sigma12 = F.conv2d(img1*img2, window, padding = window_size//2, groups = self.channel) - mu1_mu2\n",
    "\n",
    "        C1 = (0.01*self.max_val)**2\n",
    "        C2 = (0.03*self.max_val)**2\n",
    "        V1 = 2.0 * sigma12 + C2\n",
    "        V2 = sigma1_sq + sigma2_sq + C2\n",
    "        ssim_map = ((2*mu1_mu2 + C1)*V1)/((mu1_sq + mu2_sq + C1)*V2)\n",
    "        mcs_map = V1 / V2\n",
    "        if size_average:\n",
    "            return ssim_map.mean(), mcs_map.mean()\n",
    "\n",
    "    def ms_ssim(self, img1, img2, levels=5):\n",
    "\n",
    "        weight = Variable(torch.Tensor([0.0448, 0.2856, 0.3001, 0.2363, 0.1333]).cuda())\n",
    "\n",
    "        msssim = Variable(torch.Tensor(levels,).cuda())\n",
    "        mcs = Variable(torch.Tensor(levels,).cuda())\n",
    "        for i in range(levels):\n",
    "            ssim_map, mcs_map = self._ssim(img1, img2)\n",
    "            msssim[i] = ssim_map\n",
    "            mcs[i] = mcs_map\n",
    "            filtered_im1 = F.avg_pool2d(img1, kernel_size=2, stride=2)\n",
    "            filtered_im2 = F.avg_pool2d(img2, kernel_size=2, stride=2)\n",
    "            img1 = filtered_im1\n",
    "            img2 = filtered_im2\n",
    "\n",
    "        value = (torch.prod(mcs[0:levels-1]**weight[0:levels-1])*\n",
    "                                    (msssim[levels-1]**weight[levels-1]))\n",
    "        return value\n",
    "\n",
    "\n",
    "    def forward(self, img1, img2):\n",
    "\n",
    "        return self.ms_ssim(img1, img2)\n",
    "    \n",
    "\n",
    "ms_ssim = MS_SSIM()\n",
    "ms_ssim = ms_ssim.cuda()"
   ]
  },
  {
   "cell_type": "code",
   "execution_count": null,
   "id": "44cd7280-7af9-4d69-8c69-09aa27049907",
   "metadata": {},
   "outputs": [],
   "source": [
    "test_losses = {\"mean\": [], \"min\": 1, \"max\": 0}\n",
    "test_losses_2 = {\"mean\": [], \"min\": 1, \"max\": 0}\n",
    "for ind, data in enumerate(render_dataloader):\n",
    "#     original, t_images, t_masks = data\n",
    "#     t_images = t_images.cuda()\n",
    "#     t_masks = t_masks.cuda()\n",
    "#     t_output = model(t_images)\n",
    "#     t_output = torch.sigmoid(t_output)\n",
    "#     threshold = torch.quantile(t_output.flatten(), torch.tensor([0.01]).cuda())\n",
    "#     t_output = (t_output > threshold).type(torch.float32)\n",
    "        \n",
    "#     if ind % 120 == 0 and ind != 0:\n",
    "#         break\n",
    "\n",
    "    test_loss = IoU(analyze(data)[3], analyze(data)[4]).item()\n",
    "    test_losses[\"mean\"].append(test_loss)\n",
    "    if test_losses[\"min\"] >= test_loss:\n",
    "        test_losses[\"min\"] = test_loss\n",
    "    if test_losses[\"max\"] <= test_loss:\n",
    "        test_losses[\"max\"] = test_loss\n",
    "        \n",
    "    a = ms_ssim(einops.rearrange(analyze(data)[3], \"(b c h) w -> b c h w\", b=1, c=1).cuda()*1., einops.rearrange(analyze(data)[4].cpu(), \"(b c h) w -> b c h w\", b=1, c=1).cuda()*1.) #.item()\n",
    "    a = a.item()\n",
    "    test_losses_2[\"mean\"].append(a)\n",
    "    if test_losses_2[\"min\"] >= a:\n",
    "        test_losses_2[\"min\"] = a\n",
    "    if test_losses_2[\"max\"] <= a:\n",
    "        test_losses_2[\"max\"] = a\n",
    "        \n",
    "test_losses_2[\"mean\"] = np.mean(test_losses_2[\"mean\"])\n",
    "test_losses[\"mean\"] = np.mean(test_losses[\"mean\"])"
   ]
  },
  {
   "cell_type": "code",
   "execution_count": null,
   "id": "caf03e00-06d7-482f-8a19-7991a5e28f55",
   "metadata": {},
   "outputs": [],
   "source": [
    "print(f'IOU    : {test_losses[\"mean\"]=}, {test_losses[\"min\"]=}, {test_losses[\"max\"]=}')\n",
    "print(f'MS-SSIM: {test_losses_2[\"mean\"]=}, {test_losses_2[\"min\"]=}, {test_losses_2[\"max\"]=}')"
   ]
  },
  {
   "cell_type": "code",
   "execution_count": null,
   "id": "618ec761-4768-47ac-b5ce-4f4a055704b9",
   "metadata": {},
   "outputs": [],
   "source": [
    "IoU(analyze(data)[3], analyze(data)[4])"
   ]
  },
  {
   "cell_type": "code",
   "execution_count": null,
   "id": "76d20a31-70f9-4e81-a265-1f267100bf63",
   "metadata": {},
   "outputs": [],
   "source": [
    "from functools import reduce\n",
    "def IoU(*masks) -> float:\n",
    "    e = 1e-6\n",
    "    return (reduce(torch.logical_and, masks).sum() + e) / \\\n",
    "           (reduce(torch.logical_or, masks).sum() + e)"
   ]
  },
  {
   "cell_type": "code",
   "execution_count": null,
   "id": "26ebac57-f88c-425f-8186-3849773fed53",
   "metadata": {},
   "outputs": [],
   "source": [
    "analyze(data)[0] #.save(\"example_4.png\")"
   ]
  },
  {
   "cell_type": "code",
   "execution_count": null,
   "id": "c3fd301f-2832-487a-a8ef-3f3c928707bb",
   "metadata": {},
   "outputs": [],
   "source": [
    "device = torch.device('cpu')\n",
    "# model = TheModelClass(*args, **kwargs)\n",
    "# model.load_state_dict(torch.load(PATH, map_location=device))\n",
    "\n",
    "model.load_state_dict(torch.load(\"transunet_80epo_bce_vit8.meow\", map_location=device))"
   ]
  },
  {
   "cell_type": "code",
   "execution_count": null,
   "id": "613a9416-f763-41f1-9b86-5c8e7efa1e73",
   "metadata": {},
   "outputs": [],
   "source": [
    "from torchvision.utils import draw_segmentation_masks as dsm"
   ]
  },
  {
   "cell_type": "code",
   "execution_count": null,
   "id": "0fe44264-6c46-4880-8ec3-35ec726312ef",
   "metadata": {},
   "outputs": [],
   "source": [
    "def g_to_rgb(image):\n",
    "        \"\"\" Convert grayscale to rgb image\n",
    "        (add two identical channels)\n",
    "        \"\"\"\n",
    "        return np.stack([image, image, image], axis=1)"
   ]
  },
  {
   "cell_type": "code",
   "execution_count": null,
   "id": "cabc5f17-cd70-4bf5-bfa3-286ca55f797a",
   "metadata": {},
   "outputs": [],
   "source": [
    "g_to_rgb(torch.from_numpy(show(t_images))).shape, torch.from_numpy(show(t_output)).unsqueeze(0).shape"
   ]
  },
  {
   "cell_type": "code",
   "execution_count": null,
   "id": "1f499b6f-2b00-4c16-8852-7bdd2e41d93f",
   "metadata": {},
   "outputs": [],
   "source": [
    "plt.imshow(einops.rearrange(r, \"c h w -> h w c\"))"
   ]
  },
  {
   "cell_type": "code",
   "execution_count": null,
   "id": "f604b404-1315-46f1-9569-38880f1d76b8",
   "metadata": {},
   "outputs": [],
   "source": [
    "img = g_to_rgb(torch.from_numpy(show(t_images)))\n",
    "msk = torch.from_numpy(show(t_output)) == 255\n",
    "\n",
    "r = dsm(image=img, masks=msk, alpha=0.3).numpy()\n",
    "r = einops.rearrange(r, \"c h w -> h w c\")\n",
    "rr = Image.fromarray(r)\n",
    "rr = rr.convert('RGB')\n",
    "rr"
   ]
  },
  {
   "cell_type": "code",
   "execution_count": null,
   "id": "6d1d2d4d-a7ba-4bff-bbd9-3fcea9c9aa6d",
   "metadata": {},
   "outputs": [],
   "source": [
    "analyze(data)[0] #.save(\"presentation2.png\")\n",
    "# analyze(data).save(\"res70_wow.png\")"
   ]
  },
  {
   "cell_type": "code",
   "execution_count": null,
   "id": "0b6b5c55-a6e3-46df-b716-1d34492a3cf2",
   "metadata": {},
   "outputs": [],
   "source": [
    "me = \"/home/student/Downloads/me5.png\"\n",
    "girl = \"/home/student/Downloads/girl5.png\"\n",
    "giant = \"/home/student/Downloads/giant5.png\""
   ]
  },
  {
   "cell_type": "code",
   "execution_count": null,
   "id": "a37d9df1-4961-45ad-8bd5-fe13ec23c936",
   "metadata": {},
   "outputs": [],
   "source": [
    "Image.fromarray(\n",
    "    intensity(\n",
    "        (MinMaxNormalize()(np.array(Image.open(giant))) * 255).astype(np.uint8),\n",
    "        np.array(me_output_mask), (20, 20, 0)\n",
    "    )\n",
    ")"
   ]
  },
  {
   "cell_type": "code",
   "execution_count": null,
   "id": "9964d47c-c0b2-4499-aa6d-8709db010b96",
   "metadata": {},
   "outputs": [],
   "source": [
    "Image.fromarray(\n",
    "    intensity(np.array(Image.open(giant)), np.array(me_output_mask), 20).astype(np.uint16)\n",
    ")"
   ]
  },
  {
   "cell_type": "code",
   "execution_count": null,
   "id": "a13312eb-acfb-461f-98a7-e2487068e189",
   "metadata": {},
   "outputs": [],
   "source": [
    "Image.open(giant).size"
   ]
  },
  {
   "cell_type": "code",
   "execution_count": null,
   "id": "9d955c0a-2e91-465e-b748-a6d6888248bb",
   "metadata": {},
   "outputs": [],
   "source": [
    "me_arr"
   ]
  },
  {
   "cell_type": "code",
   "execution_count": null,
   "id": "5e087579-abb1-477d-bd15-e50d214896c4",
   "metadata": {},
   "outputs": [],
   "source": [
    "plt.figure(figsize=(12, 4))\n",
    "sns.scatterplot(x=range(len(losses)), y=losses, color=\"#036aea\", s=15, label=\"Loss value\", marker=\"o\")\n",
    "sns.lineplot(x=range(len(losses)), y=losses, color=\"#4da9de\")\n",
    "plt.legend(prop={'size': 13})\n",
    "plt.xlabel(\"epoches\", fontsize=13)\n",
    "plt.ylabel(\"loss value\", fontsize=13)\n",
    "# plt.show()\n",
    "plt.savefig(\"losses.jpg\")"
   ]
  },
  {
   "cell_type": "code",
   "execution_count": null,
   "id": "c49a6879-a6b5-4b9c-8163-0ec823ea1c56",
   "metadata": {},
   "outputs": [],
   "source": []
  },
  {
   "cell_type": "code",
   "execution_count": null,
   "id": "2678ce94-2c34-4c60-82b6-c81fa67df05c",
   "metadata": {},
   "outputs": [],
   "source": [
    "torch.randint(0, 2, (10, 1))"
   ]
  },
  {
   "cell_type": "code",
   "execution_count": null,
   "id": "633f1360-a30a-49c8-996a-6d5b6e365c94",
   "metadata": {},
   "outputs": [],
   "source": []
  }
 ],
 "metadata": {
  "kernelspec": {
   "display_name": "Python 3 (ipykernel)",
   "language": "python",
   "name": "python3"
  },
  "language_info": {
   "codemirror_mode": {
    "name": "ipython",
    "version": 3
   },
   "file_extension": ".py",
   "mimetype": "text/x-python",
   "name": "python",
   "nbconvert_exporter": "python",
   "pygments_lexer": "ipython3",
   "version": "3.8.10"
  }
 },
 "nbformat": 4,
 "nbformat_minor": 5
}

{
 "cells": [
  {
   "cell_type": "code",
   "execution_count": 10,
   "id": "a9e98fcf-4e74-4d1a-b34f-98bb9a75e333",
   "metadata": {},
   "outputs": [],
   "source": [
    "import einops\n",
    "from torchvision import transforms"
   ]
  },
  {
   "cell_type": "code",
   "execution_count": 2,
   "id": "b69820f3-fa64-4fc2-80c4-fa84c2201a82",
   "metadata": {},
   "outputs": [],
   "source": [
    "from dashboard import Board"
   ]
  },
  {
   "cell_type": "code",
   "execution_count": 3,
   "id": "0f77c20e-3c46-45aa-afd0-b4eee1443534",
   "metadata": {},
   "outputs": [
    {
     "name": "stdout",
     "output_type": "stream",
     "text": [
      "Try to load data from f/home/student/Documents/dashboard/company_target_images/\n",
      "Number of images: 57\n",
      "Number of masks: 57\n",
      "\n",
      "Volume of test dataset: 57\n",
      "\n"
     ]
    }
   ],
   "source": [
    "from transunet.model import MyTransUNet, build_the_model\n",
    "import transunet.dataloader as dl"
   ]
  },
  {
   "cell_type": "code",
   "execution_count": 4,
   "id": "8576665e-27ce-4fa1-9fb6-8017c00104cb",
   "metadata": {},
   "outputs": [],
   "source": [
    "out_path = \"data--model=TransUNet,img_size=250px,vit_blocks=8,loss_fn=BCE\""
   ]
  },
  {
   "cell_type": "code",
   "execution_count": 5,
   "id": "2acafe4a-a8ec-408b-9872-61a402ef8fad",
   "metadata": {},
   "outputs": [
    {
     "data": {
      "text/plain": [
       "tensor([[0.8823],\n",
       "        [0.9150],\n",
       "        [0.3829]], device='cuda:0')"
      ]
     },
     "execution_count": 5,
     "metadata": {},
     "output_type": "execute_result"
    }
   ],
   "source": [
    "import torch\n",
    "torch.rand(3, 1).to(\"cuda\")"
   ]
  },
  {
   "cell_type": "code",
   "execution_count": 6,
   "id": "6f7ea8bc-41a1-4f8a-9b56-1825b5e11c92",
   "metadata": {},
   "outputs": [
    {
     "name": "stdout",
     "output_type": "stream",
     "text": [
      "Trainable parameters amount: 67076987\n"
     ]
    }
   ],
   "source": [
    "model = build_the_model(device=\"cuda\", model_path=\"/home/student/Documents/xrays/transunet_70epo_bce_vit8.meow\")"
   ]
  },
  {
   "cell_type": "code",
   "execution_count": 7,
   "id": "54dc943c-b20f-434e-942d-c5d41765f242",
   "metadata": {},
   "outputs": [
    {
     "data": {
      "text/plain": [
       "<torch.utils.data.dataloader.DataLoader at 0x7feb0ac5b520>"
      ]
     },
     "execution_count": 7,
     "metadata": {},
     "output_type": "execute_result"
    }
   ],
   "source": [
    "dl.test_dataloader"
   ]
  },
  {
   "cell_type": "code",
   "execution_count": 11,
   "id": "08d407b6-b985-4ff2-bd8c-8932d6d8511e",
   "metadata": {},
   "outputs": [],
   "source": [
    "def analyze(source):\n",
    "    if type(source) == str:\n",
    "        me_arr = Image.open(source).convert('L')\n",
    "        me_arr = transform(me_arr)\n",
    "        me_arr = me_arr.type(torch.float32)\n",
    "\n",
    "        me_arr = einops.rearrange(me_arr, \"(b c) h w -> b c h w\", b=1)\n",
    "    else:\n",
    "        me_arr, arr, mask = source\n",
    "        \n",
    "        # print(arr.shape)\n",
    "\n",
    "        # t_output = model(arr)\n",
    "        # t_output = torch.sigmoid(t_output)\n",
    "        # t_output = show(t_output)\n",
    "        \n",
    "        \n",
    "    \n",
    "    me_output = model.predict(me_arr)\n",
    "    \n",
    "    \n",
    "    if type(source) == str:\n",
    "        me_output_mask = transforms.Resize(Image.open(source).size[::-1])(Image.fromarray(me_output))\n",
    "        \n",
    "        return Image.fromarray(\n",
    "            intensity(\n",
    "                (MinMaxNormalize()(np.array(Image.open(source).convert(\"L\"))) * 255).astype(np.uint8),\n",
    "                np.array(me_output_mask), (20, 20, 0)\n",
    "            )\n",
    "        )\n",
    "    else:\n",
    "        me_output_mask = me_output #transforms.Resize(source.shape)(Image.fromarray(me_output))\n",
    "        me_output_mask = transforms.Resize(arr.shape[-2:])(Image.fromarray(me_output_mask))\n",
    "        mask = transforms.Resize(arr.shape[-2:])(Image.fromarray(mask.numpy()[0, 0, :]))\n",
    "        \n",
    "        # return \n",
    "        \n",
    "#         tmp = (MinMaxNormalize()(arr) * 255).numpy().astype(np.uint8)[0, ]\n",
    "#         tmp = g_to_rgb(tmp)[0, :]\n",
    "#         tmp = einops.rearrange(tmp, \"c h w -> h w c\")\n",
    "            \n",
    "        # tmp = intensity(\n",
    "        #         (MinMaxNormalize()(arr) * 255).numpy().astype(np.uint8),\n",
    "        #         np.array(me_output_mask), (120, 120, 0)\n",
    "        #     )[0, 0, :, :, :] #.astype(np.uint8)\n",
    "            \n",
    "        # tmp = Image.fromarray(einops.rearrange(tmp, \"c h w -> h w c\"))\n",
    "        \n",
    "        # img = g_to_rgb(torch.from_numpy(show(t_images)))\n",
    "        # msk = me_output_mask == 255\n",
    "        \n",
    "        msk = transforms.ToTensor()(me_output_mask) != 0.\n",
    "        msk_original = transforms.ToTensor()(mask) != 0.\n",
    "\n",
    "        r = dsm(image=(transforms.ToTensor()(tmp)*255).type(torch.uint8), masks=msk, alpha=0.5, colors=\"#20a7c8\").numpy()\n",
    "        r = einops.rearrange(r, \"c h w -> h w c\")\n",
    "        r = Image.fromarray(r).convert('RGB')\n",
    "                \n",
    "        return r, me_output_mask, arr, msk_original[0, :], msk[0, :]"
   ]
  },
  {
   "cell_type": "code",
   "execution_count": 12,
   "id": "e3f38a14-c951-4368-b98f-2c349306a302",
   "metadata": {},
   "outputs": [
    {
     "name": "stdout",
     "output_type": "stream",
     "text": [
      "[True, True]\n"
     ]
    },
    {
     "ename": "NameError",
     "evalue": "name 'arr' is not defined",
     "output_type": "error",
     "traceback": [
      "\u001b[0;31m---------------------------------------------------------------------------\u001b[0m",
      "\u001b[0;31mNameError\u001b[0m                                 Traceback (most recent call last)",
      "Input \u001b[0;32mIn [12]\u001b[0m, in \u001b[0;36m<module>\u001b[0;34m\u001b[0m\n\u001b[1;32m      2\u001b[0m i \u001b[38;5;241m=\u001b[39m [j\u001b[38;5;241m.\u001b[39mcuda() \u001b[38;5;28;01mfor\u001b[39;00m j \u001b[38;5;129;01min\u001b[39;00m i]\n\u001b[1;32m      3\u001b[0m \u001b[38;5;28mprint\u001b[39m([j\u001b[38;5;241m.\u001b[39mis_cuda \u001b[38;5;28;01mfor\u001b[39;00m j \u001b[38;5;129;01min\u001b[39;00m i])\n\u001b[0;32m----> 4\u001b[0m \u001b[43manalyze\u001b[49m\u001b[43m(\u001b[49m\u001b[43mi\u001b[49m\u001b[43m)\u001b[49m\n\u001b[1;32m      6\u001b[0m \u001b[38;5;28;01mbreak\u001b[39;00m\n",
      "Input \u001b[0;32mIn [11]\u001b[0m, in \u001b[0;36manalyze\u001b[0;34m(source)\u001b[0m\n\u001b[1;32m     31\u001b[0m     \u001b[38;5;28;01melse\u001b[39;00m:\n\u001b[1;32m     32\u001b[0m         me_output_mask \u001b[38;5;241m=\u001b[39m me_output \u001b[38;5;66;03m#transforms.Resize(source.shape)(Image.fromarray(me_output))\u001b[39;00m\n\u001b[0;32m---> 33\u001b[0m         me_output_mask \u001b[38;5;241m=\u001b[39m transforms\u001b[38;5;241m.\u001b[39mResize(\u001b[43marr\u001b[49m\u001b[38;5;241m.\u001b[39mshape[\u001b[38;5;241m-\u001b[39m\u001b[38;5;241m2\u001b[39m:])(Image\u001b[38;5;241m.\u001b[39mfromarray(me_output_mask))\n\u001b[1;32m     34\u001b[0m         mask \u001b[38;5;241m=\u001b[39m transforms\u001b[38;5;241m.\u001b[39mResize(arr\u001b[38;5;241m.\u001b[39mshape[\u001b[38;5;241m-\u001b[39m\u001b[38;5;241m2\u001b[39m:])(Image\u001b[38;5;241m.\u001b[39mfromarray(mask\u001b[38;5;241m.\u001b[39mnumpy()[\u001b[38;5;241m0\u001b[39m, \u001b[38;5;241m0\u001b[39m, :]))\n\u001b[1;32m     36\u001b[0m         \u001b[38;5;66;03m# return \u001b[39;00m\n\u001b[1;32m     37\u001b[0m         \n\u001b[1;32m     38\u001b[0m \u001b[38;5;66;03m#         tmp = (MinMaxNormalize()(arr) * 255).numpy().astype(np.uint8)[0, ]\u001b[39;00m\n\u001b[0;32m   (...)\u001b[0m\n\u001b[1;32m     49\u001b[0m         \u001b[38;5;66;03m# img = g_to_rgb(torch.from_numpy(show(t_images)))\u001b[39;00m\n\u001b[1;32m     50\u001b[0m         \u001b[38;5;66;03m# msk = me_output_mask == 255\u001b[39;00m\n",
      "\u001b[0;31mNameError\u001b[0m: name 'arr' is not defined"
     ]
    }
   ],
   "source": [
    "for i in dl.test_dataloader:\n",
    "    i = [j.cuda() for j in i]\n",
    "    print([j.is_cuda for j in i])\n",
    "    analyze(i)\n",
    "    \n",
    "    break"
   ]
  },
  {
   "cell_type": "code",
   "execution_count": null,
   "id": "695832c0-f432-4ff3-b113-f158a69ff74d",
   "metadata": {},
   "outputs": [],
   "source": [
    "analyze()"
   ]
  }
 ],
 "metadata": {
  "kernelspec": {
   "display_name": "Python 3 (ipykernel)",
   "language": "python",
   "name": "python3"
  },
  "language_info": {
   "codemirror_mode": {
    "name": "ipython",
    "version": 3
   },
   "file_extension": ".py",
   "mimetype": "text/x-python",
   "name": "python",
   "nbconvert_exporter": "python",
   "pygments_lexer": "ipython3",
   "version": "3.8.10"
  }
 },
 "nbformat": 4,
 "nbformat_minor": 5
}

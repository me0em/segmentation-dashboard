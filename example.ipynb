{
 "cells": [
  {
   "cell_type": "markdown",
   "id": "7d42df8a-6e12-4223-a15d-b86c33b70f12",
   "metadata": {},
   "source": [
    "<h1> <center> Dashboard </center> </h1>"
   ]
  },
  {
   "cell_type": "code",
   "execution_count": 1,
   "id": "9dd5ac20-ac21-4e33-b1af-9b799ef0f634",
   "metadata": {},
   "outputs": [],
   "source": [
    "import einops\n",
    "import torch\n",
    "import numpy as np\n",
    "from PIL import Image\n",
    "import json\n",
    "from json2html import *\n",
    "import tempfile\n",
    "import webbrowser\n",
    "import os"
   ]
  },
  {
   "cell_type": "code",
   "execution_count": 2,
   "id": "631b9d68-d77a-42c4-927e-6fd6f0991b8e",
   "metadata": {},
   "outputs": [],
   "source": [
    "torch.manual_seed(42)\n",
    "np.random.seed(42)"
   ]
  },
  {
   "cell_type": "markdown",
   "id": "30e07ec6-b2a7-42eb-85e9-8ed060e3364c",
   "metadata": {},
   "source": [
    "#### 1. Load the model"
   ]
  },
  {
   "cell_type": "code",
   "execution_count": 3,
   "id": "678a2474-f7a0-4cad-a8cc-c3ad8f258fd3",
   "metadata": {},
   "outputs": [],
   "source": [
    "from models.TransUNet.model import MyTransUNet, build_the_model"
   ]
  },
  {
   "cell_type": "code",
   "execution_count": 4,
   "id": "003a6971-1ed6-4e8f-bee5-ba7aedd246fb",
   "metadata": {},
   "outputs": [
    {
     "name": "stdout",
     "output_type": "stream",
     "text": [
      "Trainable parameters amount: 67076987\n"
     ]
    }
   ],
   "source": [
    "model = build_the_model(\n",
    "    device=\"cuda\",\n",
    "    model_path=\"models/TransUNet/Parameters/transunet_130epo_bce_vit8.meow\"\n",
    ")\n",
    "\n",
    "model_name = \"transunet_70epo_bce_vit8\""
   ]
  },
  {
   "cell_type": "markdown",
   "id": "bdc10383-8fcb-4f71-b589-91ca51069617",
   "metadata": {},
   "source": [
    "#### 2. Load the company test dataset via custom dataloader"
   ]
  },
  {
   "cell_type": "code",
   "execution_count": 5,
   "id": "7cf00a4c-cfc5-442f-b834-8bb4c3ae11a2",
   "metadata": {},
   "outputs": [],
   "source": [
    "from models.TransUNet.dataloader import build_the_dataloader"
   ]
  },
  {
   "cell_type": "code",
   "execution_count": 6,
   "id": "4f695882-b446-423d-9cd2-170ec59ddf88",
   "metadata": {},
   "outputs": [
    {
     "name": "stdout",
     "output_type": "stream",
     "text": [
      "Try to load data from f/home/student/Documents/Xrays/Data/company_target_images\n",
      "Number of images: 58\n",
      "Number of masks: 58\n",
      "\n",
      "Volume of test dataset: 58\n",
      "\n"
     ]
    }
   ],
   "source": [
    "main_dataloader = build_the_dataloader(\n",
    "    batch_size=1,\n",
    "    img_path=\"/home/student/Documents/Xrays/Data/company_target_images\",\n",
    "    mask_path=\"/home/student/Documents/Xrays/Data/company_target_masks/\",\n",
    "    name=\"main_targets\"\n",
    ")"
   ]
  },
  {
   "cell_type": "code",
   "execution_count": 7,
   "id": "6720a6de-3047-46e4-83cb-6157883d0ada",
   "metadata": {},
   "outputs": [
    {
     "name": "stdout",
     "output_type": "stream",
     "text": [
      "Try to load data from f/home/student/Documents/Xrays/Data/jenya_target_images\n",
      "Number of images: 35\n",
      "Number of masks: 35\n",
      "\n",
      "Volume of test dataset: 35\n",
      "\n"
     ]
    }
   ],
   "source": [
    "jenya_dataloader = build_the_dataloader(\n",
    "    batch_size=1,\n",
    "    img_path=\"/home/student/Documents/Xrays/Data/jenya_target_images\",\n",
    "    mask_path=\"/home/student/Documents/Xrays/Data/jenya_target_masks\",\n",
    "    name=\"jenya_targets\"\n",
    ")"
   ]
  },
  {
   "cell_type": "code",
   "execution_count": 8,
   "id": "e5e446fd-f60d-4a55-96e7-1b8b88891f39",
   "metadata": {},
   "outputs": [
    {
     "name": "stdout",
     "output_type": "stream",
     "text": [
      "Try to load data from f/home/student/Documents/Xrays/Data/strange_gun_images_targets\n",
      "Number of images: 6\n",
      "Number of masks: 6\n",
      "\n",
      "Volume of test dataset: 6\n",
      "\n"
     ]
    }
   ],
   "source": [
    "sg_dataloader = build_the_dataloader(\n",
    "    batch_size=1,\n",
    "    img_path=\"/home/student/Documents/Xrays/Data/strange_gun_images_targets\",\n",
    "    mask_path=\"/home/student/Documents/Xrays/Data/strange_gun_masks_targets\",\n",
    "    name=\"strange_gun\"\n",
    ")"
   ]
  },
  {
   "cell_type": "markdown",
   "id": "d7de47af-3f21-4c4a-9c67-26577495aafc",
   "metadata": {},
   "source": [
    "# TODO: добавить тестовую выборку (dataloader)"
   ]
  },
  {
   "cell_type": "markdown",
   "id": "2474c3be-84b4-45cc-a5c8-f707e6eeabbe",
   "metadata": {},
   "source": [
    "#### 3. Build the Dashboard"
   ]
  },
  {
   "cell_type": "code",
   "execution_count": 9,
   "id": "d013e893-eee4-4f0d-87ad-b043b79f95ed",
   "metadata": {},
   "outputs": [],
   "source": [
    "from dashboard import Board"
   ]
  },
  {
   "cell_type": "code",
   "execution_count": 10,
   "id": "76a7152f-c07d-421f-bdd9-09f3713a45f8",
   "metadata": {},
   "outputs": [],
   "source": [
    "def render_fn(x):\n",
    "    x = einops.rearrange(x, \"b c h w -> (b c h) w\", b=1, c=1)\n",
    "    x *= 255\n",
    "    x = x.to(torch.uint8)\n",
    "    x = np.array(x.cpu())\n",
    "    \n",
    "    return x"
   ]
  },
  {
   "cell_type": "code",
   "execution_count": 11,
   "id": "8b5a9a1c-6319-4780-a4d5-5a7c0e659820",
   "metadata": {},
   "outputs": [],
   "source": [
    "board = Board(\n",
    "    dataloaders=[            # dataloader returns tuple of any types objects\n",
    "        main_dataloader,\n",
    "        jenya_dataloader,\n",
    "        # sg_dataloader\n",
    "    ],\n",
    "    model=model,            # model returns object that go right in the measure() and\n",
    "                            # go in the render() wrapped with render_fn\n",
    "    model_name=model_name,  # name of the model\n",
    "    render_fn=render_fn,\n",
    "    render_dl_idx=0,        # index of dataloader we need to render\n",
    "    obj_item=1,             # index of element in tuple from dataloader that will be rendered\n",
    "    obj_name_item=2,        # index of filename\n",
    "    to_model_item=0,        # image\n",
    "    limit=1,               # amount of rendered objects\n",
    "    phs_in_row=2,           # amount of rendered objects in row\n",
    "    get_randomly=False,     # it's usefull if dataloader is big and \n",
    "                            # we want to get different :limit: object from it to render  \n",
    "    c=3,\n",
    "    inverse_modelled_obj=True\n",
    ")"
   ]
  },
  {
   "cell_type": "markdown",
   "id": "feb92385-09bf-4836-a8c1-c79db66b414a",
   "metadata": {},
   "source": [
    "#### 4. Run the Dashboard"
   ]
  },
  {
   "cell_type": "code",
   "execution_count": 12,
   "id": "7f5bc4d0-b58d-4635-9fe8-b7303bd1bbff",
   "metadata": {},
   "outputs": [
    {
     "name": "stdout",
     "output_type": "stream",
     "text": [
      "Try to form a storage with 58 objects from dataloader. Device: cuda:0\n",
      "Try to form a storage with 35 objects from dataloader. Device: cuda:0\n",
      "Storages has been formed\n",
      "Render...\n"
     ]
    },
    {
     "data": {
      "image/png": "[encoded data removed]",
      "text/plain": [
       "<Figure size 864x216 with 4 Axes>"
      ]
     },
     "metadata": {},
     "output_type": "display_data"
    },
    {
     "name": "stdout",
     "output_type": "stream",
     "text": [
      "Measure...\n",
      "Load MSELoss interface from metrics/MSELoss.py\n",
      "Load IoU interface from metrics/IoU.py\n",
      "Load MS_SSIM interface from metrics/MS_SSIM.py\n",
      "Load MSELoss interface from metrics/MSELoss.py\n",
      "Load IoU interface from metrics/IoU.py\n",
      "Load MS_SSIM interface from metrics/MS_SSIM.py\n"
     ]
    }
   ],
   "source": [
    "s = board.run()"
   ]
  },
  {
   "cell_type": "code",
   "execution_count": null,
   "id": "b19f0b5d-60da-475a-8f8a-75e8ec9ee658",
   "metadata": {},
   "outputs": [],
   "source": []
  },
  {
   "cell_type": "code",
   "execution_count": null,
   "id": "39dbfa3a-ab23-4caa-bf99-7e7e4a4dbc6d",
   "metadata": {},
   "outputs": [],
   "source": []
  },
  {
   "cell_type": "code",
   "execution_count": null,
   "id": "06205c21-b762-4beb-830d-7acec5424f44",
   "metadata": {},
   "outputs": [],
   "source": []
  },
  {
   "cell_type": "code",
   "execution_count": 13,
   "id": "ebc0e345-03ce-4f08-80eb-b33c1cbd04bf",
   "metadata": {},
   "outputs": [
    {
     "data": {
      "text/plain": [
       "{'transunet_70epo_bce_vit8': {'main_targets': {'MSELoss': {'min': 0.007055720780044794,\n",
       "    'max': 991.3568725585938,\n",
       "    'mean': 17.10613441467285,\n",
       "    'nan_amount': 0},\n",
       "   'IoU': {'min': -0.472145676612854,\n",
       "    'max': 1.0,\n",
       "    'mean': 0.8612892031669617,\n",
       "    'nan_amount': 0},\n",
       "   'MS_SSIM': {'min': 0.6695544123649597,\n",
       "    'max': 0.9999504685401917,\n",
       "    'mean': 0.9942067861557007,\n",
       "    'nan_amount': 0}},\n",
       "  'jenya_targets': {'MSELoss': {'min': 0.009160224348306656,\n",
       "    'max': 0.057580940425395966,\n",
       "    'mean': 0.019405201077461243,\n",
       "    'nan_amount': 0},\n",
       "   'IoU': {'min': 0.721871018409729,\n",
       "    'max': 0.9302390813827515,\n",
       "    'mean': 0.8358311057090759,\n",
       "    'nan_amount': 0},\n",
       "   'MS_SSIM': {'min': 0.9995090961456299,\n",
       "    'max': 0.9999399185180664,\n",
       "    'mean': 0.9998602867126465,\n",
       "    'nan_amount': 0}}}}"
      ]
     },
     "execution_count": 13,
     "metadata": {},
     "output_type": "execute_result"
    }
   ],
   "source": [
    "s"
   ]
  },
  {
   "cell_type": "code",
   "execution_count": 14,
   "id": "4523d63e-9ce6-40e3-a666-1c38136c27b5",
   "metadata": {},
   "outputs": [
    {
     "name": "stdout",
     "output_type": "stream",
     "text": [
      "Try to form a storage with 58 objects from dataloader. Device: cuda:0\n",
      "Try to form a storage with 35 objects from dataloader. Device: cuda:0\n",
      "Storages has been formed\n",
      "Render...\n"
     ]
    },
    {
     "data": {
      "image/png": "[encoded data removed]",
      "text/plain": [
       "<Figure size 864x216 with 4 Axes>"
      ]
     },
     "metadata": {},
     "output_type": "display_data"
    },
    {
     "name": "stdout",
     "output_type": "stream",
     "text": [
      "Measure...\n",
      "Load MSELoss interface from metrics/MSELoss.py\n",
      "Load IoU interface from metrics/IoU.py\n",
      "Load MS_SSIM interface from metrics/MS_SSIM.py\n",
      "Load MSELoss interface from metrics/MSELoss.py\n",
      "Load IoU interface from metrics/IoU.py\n",
      "Load MS_SSIM interface from metrics/MS_SSIM.py\n"
     ]
    },
    {
     "data": {
      "text/plain": [
       "{'transunet_70epo_bce_vit8': {'main_targets': {'MSELoss': {'min': 0.007055720780044794,\n",
       "    'max': 727.9371337890625,\n",
       "    'mean': 12.564484596252441,\n",
       "    'nan_amount': 0},\n",
       "   'IoU': {'min': 0.5063170194625854,\n",
       "    'max': 1.0,\n",
       "    'mean': 0.8866305947303772,\n",
       "    'nan_amount': 0},\n",
       "   'MS_SSIM': {'min': 0.7710984349250793,\n",
       "    'max': 0.9999504685401917,\n",
       "    'mean': 0.9959569573402405,\n",
       "    'nan_amount': 0}},\n",
       "  'jenya_targets': {'MSELoss': {'min': 0.009160224348306656,\n",
       "    'max': 0.057580940425395966,\n",
       "    'mean': 0.019405197352170944,\n",
       "    'nan_amount': 0},\n",
       "   'IoU': {'min': 0.721871018409729,\n",
       "    'max': 0.9302390813827515,\n",
       "    'mean': 0.8358311653137207,\n",
       "    'nan_amount': 0},\n",
       "   'MS_SSIM': {'min': 0.9995090961456299,\n",
       "    'max': 0.9999399185180664,\n",
       "    'mean': 0.999860405921936,\n",
       "    'nan_amount': 0}}}}"
      ]
     },
     "execution_count": 14,
     "metadata": {},
     "output_type": "execute_result"
    }
   ],
   "source": [
    "board.run()"
   ]
  },
  {
   "cell_type": "code",
   "execution_count": 15,
   "id": "d211bd08-e34d-4b80-8401-cc9a9069f5ab",
   "metadata": {},
   "outputs": [],
   "source": [
    "response = _\n",
    "html = json2html.convert(json=response)\n",
    "\n",
    "with tempfile.NamedTemporaryFile(mode=\"w\", suffix=\".html\", delete=False) as tf:\n",
    "    tf.write(html)\n",
    "    webbrowser.open('file://' + os.path.realpath(tf.name))"
   ]
  },
  {
   "cell_type": "code",
   "execution_count": null,
   "id": "ea2e485a-ce59-47c0-b6ca-ba6847f5474a",
   "metadata": {},
   "outputs": [],
   "source": []
  }
 ],
 "metadata": {
  "kernelspec": {
   "display_name": "Python 3 (ipykernel)",
   "language": "python",
   "name": "python3"
  },
  "language_info": {
   "codemirror_mode": {
    "name": "ipython",
    "version": 3
   },
   "file_extension": ".py",
   "mimetype": "text/x-python",
   "name": "python",
   "nbconvert_exporter": "python",
   "pygments_lexer": "ipython3",
   "version": "3.8.10"
  }
 },
 "nbformat": 4,
 "nbformat_minor": 5
}
